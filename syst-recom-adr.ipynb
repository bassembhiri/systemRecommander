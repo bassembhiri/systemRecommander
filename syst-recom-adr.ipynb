{
 "cells": [
  {
   "cell_type": "code",
   "execution_count": 1,
   "metadata": {
    "ExecuteTime": {
     "end_time": "2021-01-27T08:24:39.733995Z",
     "start_time": "2021-01-27T08:24:39.191363Z"
    }
   },
   "outputs": [],
   "source": [
    "import pandas as pd\n",
    "import numpy as np\n",
    "from collections import defaultdict\n",
    "import time "
   ]
  },
  {
   "cell_type": "code",
   "execution_count": 2,
   "metadata": {
    "ExecuteTime": {
     "end_time": "2021-01-27T08:24:39.925876Z",
     "start_time": "2021-01-27T08:24:39.736793Z"
    }
   },
   "outputs": [
    {
     "name": "stdout",
     "output_type": "stream",
     "text": [
      "                    totalUsers  totalPlays     avgPlays\n",
      "name                                                   \n",
      "Britney Spears             522     2393140  4584.559387\n",
      "Depeche Mode               282     1301308  4614.567376\n",
      "Lady Gaga                  611     1291387  2113.563011\n",
      "Christina Aguilera         407     1058405  2600.503686\n",
      "Paramore                   399      963449  2414.659148\n",
      "...                        ...         ...          ...\n",
      "Morris                       1           1     1.000000\n",
      "Eddie Kendricks              1           1     1.000000\n",
      "Excess Pressure              1           1     1.000000\n",
      "My Mine                      1           1     1.000000\n",
      "A.M. Architect               1           1     1.000000\n",
      "\n",
      "[17632 rows x 3 columns]\n"
     ]
    }
   ],
   "source": [
    "plays = pd.read_csv('user_artists.dat', sep='\\t')\n",
    "artists = pd.read_csv('artists.dat', sep='\\t', usecols=['id','name'])\n",
    "\n",
    "# Merge artist and user pref data\n",
    "ap = pd.merge(artists, plays, how=\"inner\", left_on=\"id\", right_on=\"artistID\")\n",
    "ap = ap.rename(columns={\"weight\": \"playCount\"})\n",
    "\n",
    "# Group artist by name\n",
    "artist_rank = ap.groupby(['name']) \\\n",
    "    .agg({'userID' : 'count', 'playCount' : 'sum'}) \\\n",
    "    .rename(columns={\"userID\" : 'totalUsers', \"playCount\" : \"totalPlays\"}) \\\n",
    "    .sort_values(['totalPlays'], ascending=False)\n",
    "\n",
    "artist_rank['avgPlays'] = artist_rank['totalPlays'] / artist_rank['totalUsers']\n",
    "print(artist_rank)"
   ]
  },
  {
   "cell_type": "code",
   "execution_count": 3,
   "metadata": {
    "ExecuteTime": {
     "end_time": "2021-01-27T08:24:43.011367Z",
     "start_time": "2021-01-27T08:24:39.929227Z"
    },
    "code_folding": []
   },
   "outputs": [
    {
     "name": "stdout",
     "output_type": "stream",
     "text": [
      "<class 'pandas.core.frame.DataFrame'>\n",
      "sparsity: 0.28\n",
      "2800        72\n",
      "35843      792\n",
      "27302      511\n",
      "8152       203\n",
      "26670      498\n",
      "         ...  \n",
      "38688      913\n",
      "32955      697\n",
      "71811     4988\n",
      "91319    17080\n",
      "63982     3201\n",
      "Name: id, Length: 92834, dtype: int64\n"
     ]
    }
   ],
   "source": [
    "# Merge into ap matrix\n",
    "ap = ap.join(artist_rank, on=\"name\", how=\"inner\") \\\n",
    "    .sort_values(['playCount'], ascending=False)\n",
    "\n",
    "# Preprocessing\n",
    "pc = ap.playCount\n",
    "play_count_scaled = (pc - pc.min()) / (pc.max() - pc.min())\n",
    "ap = ap.assign(playCountScaled=play_count_scaled)\n",
    "print(type(ap))\n",
    "\n",
    "# Build a user-artist rating matrix \n",
    "ratings_df = ap.pivot(index='userID', columns='artistID', values='playCountScaled')\n",
    "ratings = ratings_df.fillna(0).values\n",
    "\n",
    "# Show sparsity\n",
    "sparsity = float(len(ratings.nonzero()[0])) / (ratings.shape[0] * ratings.shape[1]) * 100\n",
    "print(\"sparsity: %.2f\" % sparsity)\n",
    "ap.describe()\n",
    "print(ap.id)"
   ]
  },
  {
   "cell_type": "code",
   "execution_count": 4,
   "metadata": {
    "ExecuteTime": {
     "end_time": "2021-01-27T08:24:44.280865Z",
     "start_time": "2021-01-27T08:24:43.013831Z"
    }
   },
   "outputs": [
    {
     "name": "stdout",
     "output_type": "stream",
     "text": [
      "rating matrix shape (1892, 17632)\n"
     ]
    }
   ],
   "source": [
    "from scipy.sparse import csr_matrix\n",
    "\n",
    "# Build a sparse matrix\n",
    "X = csr_matrix(ratings)\n",
    "\n",
    "n_users, n_items = ratings_df.shape\n",
    "print(\"rating matrix shape\", ratings_df.shape)\n",
    "\n",
    "user_ids = ratings_df.index.values\n",
    "artist_names = ap.sort_values(\"artistID\")[\"name\"].unique()"
   ]
  },
  {
   "cell_type": "code",
   "execution_count": 5,
   "metadata": {
    "ExecuteTime": {
     "end_time": "2021-01-27T08:24:45.405522Z",
     "start_time": "2021-01-27T08:24:44.285420Z"
    }
   },
   "outputs": [
    {
     "name": "stdout",
     "output_type": "stream",
     "text": [
      "(92198,)\n",
      "<class 'lightfm.data.Dataset'>\n",
      "3579664\n",
      "(1892, 17632)\n",
      "(1892, 17632)\n"
     ]
    }
   ],
   "source": [
    "from lightfm import LightFM\n",
    "from lightfm.evaluation import auc_score, precision_at_k, recall_at_k\n",
    "from lightfm.cross_validation import random_train_test_split\n",
    "from lightfm.data import Dataset\n",
    "\n",
    "# Build data references + train test\n",
    "Xcoo = X.tocoo()\n",
    "data = Dataset()\n",
    "data.fit(np.arange(n_users), np.arange(n_items))\n",
    "interactions, weights = data.build_interactions(zip(Xcoo.row, Xcoo.col, Xcoo.data))\n",
    "\n",
    "print(Xcoo.data.shape)\n",
    "print(type(data))\n",
    "print(1892*1892)\n",
    "#train, test = random_train_test_split(interactions,test_percentage=0.2)\n",
    "train, test = random_train_test_split(interactions)\n",
    "print(train.shape)\n",
    "print(test.shape)\n",
    "# Ignore that (weight seems to be ignored...)\n",
    "#train = train_.tocsr()\n",
    "#test = test_.tocsr()\n",
    "#train[train==1] = X[train==1]\n",
    "#test[test==1] = X[test==1]\n",
    "\n",
    "# To be completed..."
   ]
  },
  {
   "cell_type": "code",
   "execution_count": null,
   "metadata": {},
   "outputs": [],
   "source": []
  },
  {
   "cell_type": "code",
   "execution_count": 6,
   "metadata": {
    "ExecuteTime": {
     "end_time": "2021-01-27T08:24:45.865860Z",
     "start_time": "2021-01-27T08:24:45.408003Z"
    }
   },
   "outputs": [
    {
     "data": {
      "text/plain": [
       "<lightfm.lightfm.LightFM at 0x7fd1f0ef2370>"
      ]
     },
     "execution_count": 6,
     "metadata": {},
     "output_type": "execute_result"
    }
   ],
   "source": [
    "# Train\n",
    "model = LightFM(learning_rate=0.05, loss='warp')\n",
    "model.fit(train, epochs=10, num_threads=2)"
   ]
  },
  {
   "cell_type": "code",
   "execution_count": 7,
   "metadata": {
    "ExecuteTime": {
     "end_time": "2021-01-27T08:24:55.321626Z",
     "start_time": "2021-01-27T08:24:45.870547Z"
    }
   },
   "outputs": [
    {
     "name": "stdout",
     "output_type": "stream",
     "text": [
      "Precision: train 0.38, test 0.13.\n",
      "AUC: train 0.96, test 0.86.\n"
     ]
    }
   ],
   "source": [
    "# Evaluate\n",
    "train_precision = precision_at_k(model, train, k=10).mean()\n",
    "test_precision = precision_at_k(model, test, k=10, train_interactions=train).mean()\n",
    "\n",
    "train_auc = auc_score(model, train).mean()\n",
    "test_auc = auc_score(model, test, train_interactions=train).mean()\n",
    "\n",
    "print('Precision: train %.2f, test %.2f.' % (train_precision, test_precision))\n",
    "print('AUC: train %.2f, test %.2f.' % (train_auc, test_auc))"
   ]
  },
  {
   "cell_type": "code",
   "execution_count": 8,
   "metadata": {
    "ExecuteTime": {
     "end_time": "2021-01-27T08:24:55.335907Z",
     "start_time": "2021-01-27T08:24:55.325289Z"
    }
   },
   "outputs": [
    {
     "name": "stdout",
     "output_type": "stream",
     "text": [
      "['Madonna' 'Björk' 'David Bowie' ... 'Big Brotherz' 'In Mourning'\n",
      " 'Celestia']\n"
     ]
    }
   ],
   "source": [
    "# Predict\n",
    "scores = model.predict(0, np.arange(n_items))\n",
    "top_items = artist_names[np.argsort(-scores)]\n",
    "print(top_items)"
   ]
  },
  {
   "cell_type": "markdown",
   "metadata": {},
   "source": [
    "# New Travail"
   ]
  },
  {
   "cell_type": "code",
   "execution_count": 9,
   "metadata": {
    "ExecuteTime": {
     "end_time": "2021-01-27T08:24:55.343068Z",
     "start_time": "2021-01-27T08:24:55.339181Z"
    }
   },
   "outputs": [],
   "source": [
    "def model_01(loss):\n",
    "    model = LightFM(learning_rate=0.05, loss=loss)\n",
    "    return model\n",
    "    "
   ]
  },
  {
   "cell_type": "code",
   "execution_count": 10,
   "metadata": {
    "ExecuteTime": {
     "end_time": "2021-01-27T08:24:55.351348Z",
     "start_time": "2021-01-27T08:24:55.346074Z"
    }
   },
   "outputs": [],
   "source": [
    "def train_01(model,train,epoches=10,num_threads=2):\n",
    "    return model.fit(train, epochs=10, num_threads=2)"
   ]
  },
  {
   "cell_type": "code",
   "execution_count": 11,
   "metadata": {
    "ExecuteTime": {
     "end_time": "2021-01-27T08:24:55.362439Z",
     "start_time": "2021-01-27T08:24:55.354605Z"
    }
   },
   "outputs": [],
   "source": [
    "def evaluate(model, train,test,k=10):\n",
    "    train_precision = precision_at_k(model, train, k=10).mean()\n",
    "    test_precision = precision_at_k(model, test, k=10, train_interactions=train).mean()\n",
    "\n",
    "    train_auc = auc_score(model, train).mean()\n",
    "    test_auc = auc_score(model, test, train_interactions=train).mean()\n",
    "    return train_precision, test_precision, train_auc, test_auc"
   ]
  },
  {
   "cell_type": "code",
   "execution_count": 12,
   "metadata": {
    "ExecuteTime": {
     "end_time": "2021-01-27T08:24:55.372003Z",
     "start_time": "2021-01-27T08:24:55.364933Z"
    }
   },
   "outputs": [],
   "source": [
    "def predict_01(model, n_items=n_items):\n",
    "    \n",
    "    scores = model.predict(0, np.arange(n_items))\n",
    "    top_items = artist_names[np.argsort(-scores)]\n",
    "    return top_items"
   ]
  },
  {
   "cell_type": "code",
   "execution_count": 13,
   "metadata": {
    "ExecuteTime": {
     "end_time": "2021-01-27T08:24:55.945977Z",
     "start_time": "2021-01-27T08:24:55.374333Z"
    }
   },
   "outputs": [
    {
     "data": {
      "text/plain": [
       "<lightfm.lightfm.LightFM at 0x7fd1f0ef26d0>"
      ]
     },
     "execution_count": 13,
     "metadata": {},
     "output_type": "execute_result"
    }
   ],
   "source": [
    "loss='warp'\n",
    "model=model_01(loss)\n",
    "train=train\n",
    "\n",
    "train_01(model,train,epoches=10,num_threads=2)"
   ]
  },
  {
   "cell_type": "code",
   "execution_count": 14,
   "metadata": {
    "ExecuteTime": {
     "end_time": "2021-01-27T08:25:05.588908Z",
     "start_time": "2021-01-27T08:24:55.950129Z"
    }
   },
   "outputs": [],
   "source": [
    "train=train\n",
    "test=test\n",
    "train_precision, test_precision, train_auc, test_auc = evaluate(model, train,test,k=10)"
   ]
  },
  {
   "cell_type": "code",
   "execution_count": 15,
   "metadata": {
    "ExecuteTime": {
     "end_time": "2021-01-27T08:25:05.600008Z",
     "start_time": "2021-01-27T08:25:05.591401Z"
    }
   },
   "outputs": [
    {
     "data": {
      "text/plain": [
       "0.38397878"
      ]
     },
     "execution_count": 15,
     "metadata": {},
     "output_type": "execute_result"
    }
   ],
   "source": [
    "train_precision"
   ]
  },
  {
   "cell_type": "code",
   "execution_count": 16,
   "metadata": {
    "ExecuteTime": {
     "end_time": "2021-01-27T08:25:05.608011Z",
     "start_time": "2021-01-27T08:25:05.602750Z"
    }
   },
   "outputs": [
    {
     "data": {
      "text/plain": [
       "0.13107677"
      ]
     },
     "execution_count": 16,
     "metadata": {},
     "output_type": "execute_result"
    }
   ],
   "source": [
    "test_precision"
   ]
  },
  {
   "cell_type": "code",
   "execution_count": 17,
   "metadata": {
    "ExecuteTime": {
     "end_time": "2021-01-27T08:25:05.621462Z",
     "start_time": "2021-01-27T08:25:05.611355Z"
    }
   },
   "outputs": [],
   "source": [
    "top_items=predict_01(model, n_items=n_items)"
   ]
  },
  {
   "cell_type": "code",
   "execution_count": 18,
   "metadata": {
    "ExecuteTime": {
     "end_time": "2021-01-27T08:25:05.631408Z",
     "start_time": "2021-01-27T08:25:05.625678Z"
    }
   },
   "outputs": [
    {
     "data": {
      "text/plain": [
       "array(['Radiohead', 'Depeche Mode', 'The Beatles', ...,\n",
       "       'Ali Farka Touré & Toumani Diabaté', 'ヴァルナ', 'The Contortionist'],\n",
       "      dtype=object)"
      ]
     },
     "execution_count": 18,
     "metadata": {},
     "output_type": "execute_result"
    }
   ],
   "source": [
    "top_items"
   ]
  },
  {
   "cell_type": "code",
   "execution_count": 19,
   "metadata": {
    "ExecuteTime": {
     "end_time": "2021-01-27T08:25:05.638869Z",
     "start_time": "2021-01-27T08:25:05.635174Z"
    }
   },
   "outputs": [],
   "source": [
    "loss_s=['logistic','BPR','WARP','k-OS WARP']"
   ]
  },
  {
   "cell_type": "code",
   "execution_count": 20,
   "metadata": {
    "ExecuteTime": {
     "end_time": "2021-01-27T08:25:05.646742Z",
     "start_time": "2021-01-27T08:25:05.642915Z"
    }
   },
   "outputs": [],
   "source": [
    "# split the data\n",
    "def split_data(X):\n",
    "    train, test = random_train_test_split(interactions)\n",
    "    return train, test\n"
   ]
  },
  {
   "cell_type": "code",
   "execution_count": 21,
   "metadata": {
    "ExecuteTime": {
     "end_time": "2021-01-27T08:25:05.655461Z",
     "start_time": "2021-01-27T08:25:05.649815Z"
    }
   },
   "outputs": [],
   "source": [
    "# construire plusieurs modèles avec différentes valeurs de max_features\n",
    "def const_modeles_recom():\n",
    "    modeles = dict()\n",
    "    loss_s=[\"logistic\", \"warp\", \"bpr\", \"warp-kos\"]\n",
    "    for losss in loss_s:\n",
    "        modeles[losss] = LightFM(learning_rate=0.05, loss=losss)\n",
    "    return modeles"
   ]
  },
  {
   "cell_type": "code",
   "execution_count": null,
   "metadata": {
    "ExecuteTime": {
     "end_time": "2021-01-26T16:08:02.082850Z",
     "start_time": "2021-01-26T16:08:02.075102Z"
    }
   },
   "outputs": [],
   "source": []
  },
  {
   "cell_type": "code",
   "execution_count": null,
   "metadata": {},
   "outputs": [],
   "source": []
  },
  {
   "cell_type": "code",
   "execution_count": 22,
   "metadata": {
    "ExecuteTime": {
     "end_time": "2021-01-27T08:25:05.665720Z",
     "start_time": "2021-01-27T08:25:05.659057Z"
    }
   },
   "outputs": [],
   "source": [
    "def eval_model(model, train,test,k=10):\n",
    "    train_precision = precision_at_k(model, train, k=10).mean()\n",
    "    test_precision = precision_at_k(model, test, k=10, train_interactions=train).mean()\n",
    "\n",
    "    train_auc = auc_score(model, train).mean()\n",
    "    test_auc = auc_score(model, test, train_interactions=train).mean()\n",
    "    return train_precision, test_precision, train_auc, test_auc\n",
    "\n"
   ]
  },
  {
   "cell_type": "code",
   "execution_count": 23,
   "metadata": {
    "ExecuteTime": {
     "end_time": "2021-01-27T08:25:05.679142Z",
     "start_time": "2021-01-27T08:25:05.674522Z"
    }
   },
   "outputs": [],
   "source": [
    "def predicts(model, n_items=n_items):\n",
    "    \n",
    "    scores = model.predict(0, np.arange(n_items))\n",
    "    top_items = artist_names[np.argsort(-scores)]\n",
    "    return top_items"
   ]
  },
  {
   "cell_type": "code",
   "execution_count": 24,
   "metadata": {
    "ExecuteTime": {
     "end_time": "2021-01-27T08:25:05.693354Z",
     "start_time": "2021-01-27T08:25:05.684462Z"
    },
    "code_folding": [
     13
    ]
   },
   "outputs": [],
   "source": [
    "def run_process(X):\n",
    "    res_eval = defaultdict(list)\n",
    "    res_top_items = defaultdict(list)\n",
    "    resultas, names = list(), list()\n",
    "    train, test = split_data(X)\n",
    "    modeles= const_modeles_recom()\n",
    "    \n",
    "    for name, modele in modeles.items():\n",
    "        start = time.time()\n",
    "        modele.fit(train, epochs=10, num_threads=2)\n",
    "        fit_time = time.time() - start\n",
    "        \n",
    "        train_precision, test_precision , train_auc, test_auc = eval_model(modele, train,test,k=10)\n",
    "        res_eval[name].append([fit_time,train_precision,\n",
    "                          test_precision,\n",
    "                          train_auc,\n",
    "                          test_auc ])\n",
    "        \n",
    "        top_items = predicts(modele, n_items=n_items)\n",
    "        res_top_items[name]=top_items\n",
    "    return res_eval, res_top_items\n",
    "        "
   ]
  },
  {
   "cell_type": "code",
   "execution_count": 25,
   "metadata": {
    "ExecuteTime": {
     "end_time": "2021-01-27T08:25:50.310659Z",
     "start_time": "2021-01-27T08:25:05.717351Z"
    }
   },
   "outputs": [],
   "source": [
    "res_val, res_top_items = run_process(interactions)"
   ]
  },
  {
   "cell_type": "code",
   "execution_count": 26,
   "metadata": {
    "ExecuteTime": {
     "end_time": "2021-01-27T08:25:50.349128Z",
     "start_time": "2021-01-27T08:25:50.326254Z"
    }
   },
   "outputs": [
    {
     "data": {
      "text/plain": [
       "defaultdict(list,\n",
       "            {'logistic': [[0.5441956520080566,\n",
       "               0.20238476,\n",
       "               0.069263615,\n",
       "               0.88758904,\n",
       "               0.80862176]],\n",
       "             'warp': [[0.5018823146820068,\n",
       "               0.37604663,\n",
       "               0.12753469,\n",
       "               0.96648985,\n",
       "               0.855753]],\n",
       "             'bpr': [[0.4075291156768799,\n",
       "               0.38373077,\n",
       "               0.12449307,\n",
       "               0.85664624,\n",
       "               0.78207]],\n",
       "             'warp-kos': [[0.8223631381988525,\n",
       "               0.32888183,\n",
       "               0.11654216,\n",
       "               0.8879132,\n",
       "               0.8185759]]})"
      ]
     },
     "execution_count": 26,
     "metadata": {},
     "output_type": "execute_result"
    }
   ],
   "source": [
    "res_val"
   ]
  },
  {
   "cell_type": "code",
   "execution_count": 27,
   "metadata": {
    "ExecuteTime": {
     "end_time": "2021-01-27T08:25:50.370547Z",
     "start_time": "2021-01-27T08:25:50.354296Z"
    }
   },
   "outputs": [
    {
     "data": {
      "text/plain": [
       "defaultdict(list,\n",
       "            {'logistic': array(['Lady Gaga', 'Britney Spears', 'Katy Perry', ...,\n",
       "                    'Le Mystère des voix Bulgares', 'Pezet-Noon', 'Die Echocords'],\n",
       "                   dtype=object),\n",
       "             'warp': array(['Katy Perry', 'Lady Gaga', 'Depeche Mode', ..., 'Pulling Teeth',\n",
       "                    'Automatikk', 'Berlins Most Wanted'], dtype=object),\n",
       "             'bpr': array(['Depeche Mode', 'Björk', 'Duran Duran', ..., 'Katy Perry', 'Ke$ha',\n",
       "                    'Paramore'], dtype=object),\n",
       "             'warp-kos': array(['David Bowie', 'The Beatles', 'Michael Jackson', ..., 'GZA/Genius',\n",
       "                    'Jadakiss', 'All For Nothing'], dtype=object)})"
      ]
     },
     "execution_count": 27,
     "metadata": {},
     "output_type": "execute_result"
    }
   ],
   "source": [
    "res_top_items"
   ]
  },
  {
   "cell_type": "code",
   "execution_count": 28,
   "metadata": {
    "ExecuteTime": {
     "end_time": "2021-01-27T08:25:50.391802Z",
     "start_time": "2021-01-27T08:25:50.378028Z"
    }
   },
   "outputs": [],
   "source": [
    "from itertools import product \n",
    "import copy \n",
    "# construire plusieurs modèles avec différentes valeurs de max_features\n",
    "\n",
    "def const_modeles_recom_grid(param_grid,base_model):\n",
    "    \n",
    "    #modeles= dict()\n",
    "    modeles= defaultdict(object)\n",
    "    # name of the model\n",
    "    \n",
    "    keys, values = zip(*param_grid.items())\n",
    "    for v in product(*values):\n",
    "        params = dict(zip(keys, v))\n",
    "        this_model = copy.deepcopy(base_model)\n",
    "        name = \"-\".join([str(x) for x in v])\n",
    "        for k, v in params.items():\n",
    "            setattr(this_model, k, v)\n",
    "        modeles[name]= this_model\n",
    "    \n",
    "    return modeles"
   ]
  },
  {
   "cell_type": "code",
   "execution_count": null,
   "metadata": {},
   "outputs": [],
   "source": []
  },
  {
   "cell_type": "code",
   "execution_count": 29,
   "metadata": {
    "ExecuteTime": {
     "end_time": "2021-01-27T08:25:50.409561Z",
     "start_time": "2021-01-27T08:25:50.398996Z"
    }
   },
   "outputs": [],
   "source": [
    "# define space search\n",
    "space = dict()\n",
    "#space['LightFM__learning_rate'] = [0.05, 0.1, 0.5, 0.7, 0.8, 0.9]\n",
    "#space['LightFM__loss'] = [\"logistic\", \"warp\", \"bpr\", \"warp-kos\"]\n",
    "space['learning_rate'] = [0.05, 0.1]\n",
    "space['loss'] = [\"warp\", \"bpr\"]\n",
    "\n",
    "#### base model\n",
    "base_model=LightFM()"
   ]
  },
  {
   "cell_type": "code",
   "execution_count": 30,
   "metadata": {
    "ExecuteTime": {
     "end_time": "2021-01-27T08:25:50.445205Z",
     "start_time": "2021-01-27T08:25:50.414884Z"
    }
   },
   "outputs": [
    {
     "name": "stdout",
     "output_type": "stream",
     "text": [
      "(0.05, 'warp')\n",
      "{'learning_rate': 0.05, 'loss': 'warp'}\n",
      "{'0.05-warp': <lightfm.lightfm.LightFM object at 0x7fd1a1e0e3a0>}\n",
      "(0.05, 'bpr')\n",
      "{'learning_rate': 0.05, 'loss': 'bpr'}\n",
      "{'0.05-warp': <lightfm.lightfm.LightFM object at 0x7fd1a1e0e3a0>, '0.05-bpr': <lightfm.lightfm.LightFM object at 0x7fd1a1e0e3d0>}\n",
      "(0.1, 'warp')\n",
      "{'learning_rate': 0.1, 'loss': 'warp'}\n",
      "{'0.05-warp': <lightfm.lightfm.LightFM object at 0x7fd1a1e0e3a0>, '0.05-bpr': <lightfm.lightfm.LightFM object at 0x7fd1a1e0e3d0>, '0.1-warp': <lightfm.lightfm.LightFM object at 0x7fd1a1e0e850>}\n",
      "(0.1, 'bpr')\n",
      "{'learning_rate': 0.1, 'loss': 'bpr'}\n",
      "{'0.05-warp': <lightfm.lightfm.LightFM object at 0x7fd1a1e0e3a0>, '0.05-bpr': <lightfm.lightfm.LightFM object at 0x7fd1a1e0e3d0>, '0.1-warp': <lightfm.lightfm.LightFM object at 0x7fd1a1e0e850>, '0.1-bpr': <lightfm.lightfm.LightFM object at 0x7fd1a1e0e9d0>}\n"
     ]
    }
   ],
   "source": [
    "from itertools import product \n",
    "import copy \n",
    "# construire plusieurs modèles avec différentes valeurs de max_features\n",
    "\n",
    "    \n",
    "modeles = dict()\n",
    "    # name of the model\n",
    "    \n",
    "keys, values = zip(*space.items())\n",
    "\n",
    "\n",
    "for v in product(*values):\n",
    "    print(v)\n",
    "    params = dict(zip(keys, v))\n",
    "    print(params)\n",
    "    this_model = copy.deepcopy(base_model)\n",
    "    \n",
    "    name = \"-\".join([str(x) for x in v])\n",
    "    for k, v in params.items():\n",
    "        \n",
    "        setattr(this_model, k, v)\n",
    "    modeles[name]= this_model\n",
    "    print(modeles)\n",
    " "
   ]
  },
  {
   "cell_type": "code",
   "execution_count": 31,
   "metadata": {
    "ExecuteTime": {
     "end_time": "2021-01-27T08:25:50.464437Z",
     "start_time": "2021-01-27T08:25:50.452702Z"
    }
   },
   "outputs": [],
   "source": [
    "modeles=const_modeles_recom_grid(space,base_model)"
   ]
  },
  {
   "cell_type": "code",
   "execution_count": 32,
   "metadata": {
    "ExecuteTime": {
     "end_time": "2021-01-27T08:25:50.473717Z",
     "start_time": "2021-01-27T08:25:50.467434Z"
    }
   },
   "outputs": [
    {
     "data": {
      "text/plain": [
       "defaultdict(object,\n",
       "            {'0.05-warp': <lightfm.lightfm.LightFM at 0x7fd1a1e0a340>,\n",
       "             '0.05-bpr': <lightfm.lightfm.LightFM at 0x7fd1a1e0a310>,\n",
       "             '0.1-warp': <lightfm.lightfm.LightFM at 0x7fd1a1e0a3d0>,\n",
       "             '0.1-bpr': <lightfm.lightfm.LightFM at 0x7fd1a1e0ad30>})"
      ]
     },
     "execution_count": 32,
     "metadata": {},
     "output_type": "execute_result"
    }
   ],
   "source": [
    "modeles"
   ]
  },
  {
   "cell_type": "code",
   "execution_count": 33,
   "metadata": {
    "ExecuteTime": {
     "end_time": "2021-01-27T08:25:50.493888Z",
     "start_time": "2021-01-27T08:25:50.476800Z"
    }
   },
   "outputs": [
    {
     "ename": "IndentationError",
     "evalue": "unexpected indent (<ipython-input-33-21598ea5edfd>, line 16)",
     "output_type": "error",
     "traceback": [
      "\u001b[0;36m  File \u001b[0;32m\"<ipython-input-33-21598ea5edfd>\"\u001b[0;36m, line \u001b[0;32m16\u001b[0m\n\u001b[0;31m    start = time.time()\u001b[0m\n\u001b[0m    ^\u001b[0m\n\u001b[0;31mIndentationError\u001b[0m\u001b[0;31m:\u001b[0m unexpected indent\n"
     ]
    }
   ],
   "source": [
    "from sklearn.model_selection import GridSearchCV\n",
    "\n",
    "from sklearn.metrics import make_scorer\n",
    "import copy \n",
    "\n",
    "def run_gridCV(modele, train, test, param_grid):\n",
    "    \n",
    "    keys, values = zip(*param_grid.items())\n",
    "    for v in itertools.product(*values):\n",
    "        params = dict(zip(keys, v))\n",
    "        this_model = copy.deepcopy(base_model)\n",
    "        for k, v in params.items():\n",
    "            setattr(this_model, k, v)\n",
    "        \n",
    "        \n",
    "                start = time.time()\n",
    "        modele.fit(train, epochs=10, num_threads=2)\n",
    "        fit_time = time.time() - start\n",
    "        \n",
    "        train_precision, test_precision , train_auc, test_auc = eval_model(modele, train,test,k=10)\n",
    "        res_eval[name].append([fit_time,train_precision,\n",
    "                          test_precision,\n",
    "                          train_auc,\n",
    "                          test_auc ])\n",
    "        \n",
    "        top_items = predicts(modele, n_items=n_items)\n",
    "        res_top_items[name]=top_items\n",
    "    return res_eval, res_top_items\n",
    "        \n",
    "\n",
    "        # define space search\n",
    "    space = dict()\n",
    "    #space['LightFM__learning_rate'] = [0.05, 0.1, 0.5, 0.7, 0.8, 0.9]\n",
    "    #space['LightFM__loss'] = [\"logistic\", \"warp\", \"bpr\", \"warp-kos\"]\n",
    "    space['learning_rate'] = [0.05, 0.1]\n",
    "    space['loss'] = [\"warp\", \"bpr\"]\n",
    "        \n",
    "    train_error = make_scorer(train_score(modele,train),greater_is_better=False)    \n",
    "        # define search\n",
    "    modele_search = GridSearchCV(modele, space,scoring=train_error)\n",
    "    \n",
    "        # execute search\n",
    "    start = time.time()\n",
    "    result=modele_search.fit(train,epochs=10, num_threads=2)\n",
    "    fit_tim = time.time() - start\n",
    "        \n",
    "    # get the best performing model fit on the whole training set\n",
    "    best_model = result.best_estimator_\n",
    "        \n",
    "    return best_model"
   ]
  },
  {
   "cell_type": "code",
   "execution_count": null,
   "metadata": {
    "ExecuteTime": {
     "end_time": "2021-01-27T08:25:50.500036Z",
     "start_time": "2021-01-27T08:24:42.098Z"
    },
    "code_folding": []
   },
   "outputs": [],
   "source": [
    "\n",
    "def train_score(model, train):\n",
    "    train_auc = auc_score(model, train).mean()\n",
    "    return train_auc\n",
    "\n",
    "\n",
    "\n",
    "def run_gridCV(modele,X):\n",
    "    \n",
    "    \n",
    "    \n",
    "    train, test = split_data(X)\n",
    "        \n",
    "\n",
    "        # define space search\n",
    "    space = dict()\n",
    "    #space['LightFM__learning_rate'] = [0.05, 0.1, 0.5, 0.7, 0.8, 0.9]\n",
    "    #space['LightFM__loss'] = [\"logistic\", \"warp\", \"bpr\", \"warp-kos\"]\n",
    "    space['learning_rate'] = [0.05, 0.1]\n",
    "    space['loss'] = [\"warp\", \"bpr\"]\n",
    "        \n",
    "    train_error = make_scorer(train_score(modele,train),greater_is_better=True)    \n",
    "        # define search\n",
    "    modele_search = GridSearchCV(modele, space,scoring=train_error)\n",
    "    \n",
    "        # execute search\n",
    "    start = time.time()\n",
    "    result=modele_search.fit(train,epochs=10, num_threads=2)\n",
    "    fit_tim = time.time() - start\n",
    "        \n",
    "    # get the best performing model fit on the whole training set\n",
    "    best_model = result.best_estimator_\n",
    "        \n",
    "    return best_model\n",
    "    \n",
    "        \n",
    "    "
   ]
  },
  {
   "cell_type": "code",
   "execution_count": null,
   "metadata": {
    "ExecuteTime": {
     "end_time": "2021-01-27T08:25:50.501289Z",
     "start_time": "2021-01-27T08:24:42.170Z"
    }
   },
   "outputs": [],
   "source": [
    "modele=LightFM()\n",
    "LightFM().get_params().keys()\n"
   ]
  },
  {
   "cell_type": "code",
   "execution_count": null,
   "metadata": {
    "ExecuteTime": {
     "end_time": "2021-01-27T08:25:50.502708Z",
     "start_time": "2021-01-27T08:24:42.226Z"
    }
   },
   "outputs": [],
   "source": [
    "X=interactions\n",
    "best=run_gridCV(modele,X)"
   ]
  },
  {
   "cell_type": "code",
   "execution_count": null,
   "metadata": {},
   "outputs": [],
   "source": [
    "\n",
    "    \n",
    "        "
   ]
  },
  {
   "cell_type": "code",
   "execution_count": null,
   "metadata": {
    "ExecuteTime": {
     "end_time": "2021-01-27T08:25:50.503749Z",
     "start_time": "2021-01-27T08:24:42.326Z"
    }
   },
   "outputs": [],
   "source": [
    "# evaluate model on the hold out dataset\n",
    "        yhat = best_model.predict(test)\n",
    "    # evaluate the model\n",
    "        acc = accuracy_score(y_test, yhat)\n",
    "    # store the result\n",
    "        outer_results.append(acc)\n",
    "    # report progress\n",
    "    \n",
    "        print('>acc=%.3f, est=%.3f, cfg=%s' % (acc, result.best_score_, result.best_params_))\n",
    "# summarize the estimated performance of the model\n",
    "    print('Accuracy: %.3f (%.3f)' % (np.mean(outer_results), np.std(outer_results)))"
   ]
  },
  {
   "cell_type": "code",
   "execution_count": null,
   "metadata": {},
   "outputs": [],
   "source": []
  }
 ],
 "metadata": {
  "hide_input": false,
  "kernelspec": {
   "display_name": "Python 3",
   "language": "python",
   "name": "python3"
  },
  "language_info": {
   "codemirror_mode": {
    "name": "ipython",
    "version": 3
   },
   "file_extension": ".py",
   "mimetype": "text/x-python",
   "name": "python",
   "nbconvert_exporter": "python",
   "pygments_lexer": "ipython3",
   "version": "3.8.5"
  },
  "latex_envs": {
   "LaTeX_envs_menu_present": true,
   "autoclose": false,
   "autocomplete": true,
   "bibliofile": "biblio.bib",
   "cite_by": "apalike",
   "current_citInitial": 1,
   "eqLabelWithNumbers": true,
   "eqNumInitial": 1,
   "hotkeys": {
    "equation": "Ctrl-E",
    "itemize": "Ctrl-I"
   },
   "labels_anchors": false,
   "latex_user_defs": false,
   "report_style_numbering": false,
   "user_envs_cfg": false
  },
  "nbTranslate": {
   "displayLangs": [
    "*"
   ],
   "hotkey": "alt-t",
   "langInMainMenu": true,
   "sourceLang": "en",
   "targetLang": "fr",
   "useGoogleTranslate": true
  },
  "toc": {
   "base_numbering": 1,
   "nav_menu": {
    "height": "195px",
    "width": "224px"
   },
   "number_sections": true,
   "sideBar": true,
   "skip_h1_title": false,
   "title_cell": "Table of Contents",
   "title_sidebar": "Contents",
   "toc_cell": false,
   "toc_position": {},
   "toc_section_display": true,
   "toc_window_display": false
  },
  "varInspector": {
   "cols": {
    "lenName": 16,
    "lenType": 16,
    "lenVar": 40
   },
   "kernels_config": {
    "python": {
     "delete_cmd_postfix": "",
     "delete_cmd_prefix": "del ",
     "library": "var_list.py",
     "varRefreshCmd": "print(var_dic_list())"
    },
    "r": {
     "delete_cmd_postfix": ") ",
     "delete_cmd_prefix": "rm(",
     "library": "var_list.r",
     "varRefreshCmd": "cat(var_dic_list()) "
    }
   },
   "types_to_exclude": [
    "module",
    "function",
    "builtin_function_or_method",
    "instance",
    "_Feature"
   ],
   "window_display": false
  }
 },
 "nbformat": 4,
 "nbformat_minor": 5
}
